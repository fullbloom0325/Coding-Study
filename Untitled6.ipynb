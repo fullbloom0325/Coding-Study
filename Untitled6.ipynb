{
  "nbformat": 4,
  "nbformat_minor": 0,
  "metadata": {
    "colab": {
      "provenance": [],
      "authorship_tag": "ABX9TyPia5qQMl48cFFXwnOUTXpS",
      "include_colab_link": true
    },
    "kernelspec": {
      "name": "python3",
      "display_name": "Python 3"
    },
    "language_info": {
      "name": "python"
    }
  },
  "cells": [
    {
      "cell_type": "markdown",
      "metadata": {
        "id": "view-in-github",
        "colab_type": "text"
      },
      "source": [
        "<a href=\"https://colab.research.google.com/github/fullbloom0325/Coding-Study/blob/main/Untitled6.ipynb\" target=\"_parent\"><img src=\"https://colab.research.google.com/assets/colab-badge.svg\" alt=\"Open In Colab\"/></a>"
      ]
    },
    {
      "cell_type": "markdown",
      "source": [
        "#엘리스 코딩 스터디 2022-09-18\n"
      ],
      "metadata": {
        "id": "zmzxDPfQ6d-V"
      }
    },
    {
      "cell_type": "markdown",
      "source": [],
      "metadata": {
        "id": "zA3qLnz06dRJ"
      }
    },
    {
      "cell_type": "code",
      "source": [
        "for i in reversed(range(1,7)):\n",
        "  for j in range(i):\n",
        "    print(i,end=' ')\n",
        "  print()"
      ],
      "metadata": {
        "colab": {
          "base_uri": "https://localhost:8080/"
        },
        "id": "NMz7PyGV0sSU",
        "outputId": "467ae942-dd9e-490e-b71a-30e060ced9f5"
      },
      "execution_count": null,
      "outputs": [
        {
          "output_type": "stream",
          "name": "stdout",
          "text": [
            "6 6 6 6 6 6 \n",
            "5 5 5 5 5 \n",
            "4 4 4 4 \n",
            "3 3 3 \n",
            "2 2 \n",
            "1 \n"
          ]
        }
      ]
    },
    {
      "cell_type": "code",
      "source": [
        "for i in range(6, 0, -1): \n",
        "    for j in range(i):    \n",
        "        print(i, end=' ')\n",
        "    print()   "
      ],
      "metadata": {
        "colab": {
          "base_uri": "https://localhost:8080/"
        },
        "id": "VNKEVaio3ex9",
        "outputId": "b0a1be4f-bbdd-4901-a0f1-06479e5e5806"
      },
      "execution_count": null,
      "outputs": [
        {
          "output_type": "stream",
          "name": "stdout",
          "text": [
            "6 6 6 6 6 6 \n",
            "5 5 5 5 5 \n",
            "4 4 4 4 \n",
            "3 3 3 \n",
            "2 2 \n",
            "1 \n"
          ]
        }
      ]
    },
    {
      "cell_type": "code",
      "source": [
        "#위 문제 \n",
        "# 1. j의 값은 별로 중요하지 않다. 그저 몇번 반복하게 함으로써 중요한 i의 값을 원하는 만큼 출력허게 만들어 준다. \n",
        "# 2. 마지막 print()는 j가 0~5까지 한 바퀴 다 돌고나서 그 다음 마지막으로 실행되는데 이는 줄 바꿈을 하기 위한 것으로 print문이 없을 경우에 다시 처음 for문으로 올라가 옆으로 나란히 출력되게 된다. \n",
        "# 3. 이중for문같은경우 안의for문이 전부 실행이 되야 위로 가서 감싸는 for문을 실행한다. \n",
        "# 4. ene = \" \"는 원래라면 밑으로 출력되야 하는것을 한깐 띄운 옆으로 출력하게 한다. \n",
        "# 5. range(a,b)가 있으면 a,b의 대소간의 관계에 상관없이 무조건 a보다 크거나 같고 b보다는 하나 내린다. "
      ],
      "metadata": {
        "id": "fAE0slD17KFN"
      },
      "execution_count": null,
      "outputs": []
    },
    {
      "cell_type": "code",
      "source": [
        "for i in range(1,7):\n",
        "    for j in range(i):\n",
        "        print(j,end=' ')\n",
        "    print()"
      ],
      "metadata": {
        "colab": {
          "base_uri": "https://localhost:8080/"
        },
        "id": "1W3uABBG-G73",
        "outputId": "879017ea-4379-464c-b433-84e6b8590257"
      },
      "execution_count": null,
      "outputs": [
        {
          "output_type": "stream",
          "name": "stdout",
          "text": [
            "0 \n",
            "0 1 \n",
            "0 1 2 \n",
            "0 1 2 3 \n",
            "0 1 2 3 4 \n",
            "0 1 2 3 4 5 \n"
          ]
        }
      ]
    },
    {
      "cell_type": "code",
      "source": [
        "for i in range(8):\n",
        "    if i == 0 or i == 7:\n",
        "        print('* ' * 8)  # 처음과 마지막 행만 8번 반복\n",
        "        \n",
        "    else:\n",
        "        print('*             *')  # 나머지는 '* 공백 *'"
      ],
      "metadata": {
        "colab": {
          "base_uri": "https://localhost:8080/"
        },
        "id": "G5T6ZWdbA0d4",
        "outputId": "a83fe2ef-7c88-4617-c92f-df833288443c"
      },
      "execution_count": null,
      "outputs": [
        {
          "output_type": "stream",
          "name": "stdout",
          "text": [
            "* * * * * * * * \n",
            "*             *\n",
            "*             *\n",
            "*             *\n",
            "*             *\n",
            "*             *\n",
            "*             *\n",
            "* * * * * * * * \n"
          ]
        }
      ]
    },
    {
      "cell_type": "code",
      "source": [
        "result = 0\n",
        "\n",
        "for i in range(1, 101):\n",
        "    if i % 2 == 1:\n",
        "        if i == 99:  # 99인 경우에는 '+'부호 대신 '=' 출력하기 위해\n",
        "            print(i, end=' = ')\n",
        "            \n",
        "        else:\n",
        "            print(i, end=' + ')\n",
        "        \n",
        "        result += i\n",
        "            \n",
        "print(result)"
      ],
      "metadata": {
        "id": "WGGo6fmwNTya",
        "colab": {
          "base_uri": "https://localhost:8080/"
        },
        "outputId": "1f397340-47cb-4701-9731-e20c705a6a98"
      },
      "execution_count": null,
      "outputs": [
        {
          "output_type": "stream",
          "name": "stdout",
          "text": [
            "1 + 3 + 5 + 7 + 9 + 11 + 13 + 15 + 17 + 19 + 21 + 23 + 25 + 27 + 29 + 31 + 33 + 35 + 37 + 39 + 41 + 43 + 45 + 47 + 49 + 51 + 53 + 55 + 57 + 59 + 61 + 63 + 65 + 67 + 69 + 71 + 73 + 75 + 77 + 79 + 81 + 83 + 85 + 87 + 89 + 91 + 93 + 95 + 97 + 99 = 2500\n"
          ]
        }
      ]
    },
    {
      "cell_type": "code",
      "source": [
        "# 안에있는 if문 먼저 실행되며 그 후 위에 if문이 실행된다. "
      ],
      "metadata": {
        "id": "AyoN0SpVSeSO"
      },
      "execution_count": null,
      "outputs": []
    },
    {
      "cell_type": "code",
      "source": [],
      "metadata": {
        "id": "qN5lOgf2UEEU"
      },
      "execution_count": null,
      "outputs": []
    }
  ]
}