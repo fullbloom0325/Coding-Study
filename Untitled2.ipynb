{
  "nbformat": 4,
  "nbformat_minor": 0,
  "metadata": {
    "colab": {
      "provenance": [],
      "authorship_tag": "ABX9TyMn/QLJsVhdUHGi6U4tjC9h",
      "include_colab_link": true
    },
    "kernelspec": {
      "name": "python3",
      "display_name": "Python 3"
    },
    "language_info": {
      "name": "python"
    }
  },
  "cells": [
    {
      "cell_type": "markdown",
      "metadata": {
        "id": "view-in-github",
        "colab_type": "text"
      },
      "source": [
        "<a href=\"https://colab.research.google.com/github/fullbloom0325/Coding-Study/blob/main/Untitled2.ipynb\" target=\"_parent\"><img src=\"https://colab.research.google.com/assets/colab-badge.svg\" alt=\"Open In Colab\"/></a>"
      ]
    },
    {
      "cell_type": "markdown",
      "source": [
        "#엘리스 코딩 스터디 "
      ],
      "metadata": {
        "id": "hzPrDuQHe0Jj"
      }
    },
    {
      "cell_type": "code",
      "source": [
        "import pandas as pd\n",
        "import numpy as np\n"
      ],
      "metadata": {
        "id": "rAgSx2GBfwRt"
      },
      "execution_count": 2,
      "outputs": []
    },
    {
      "cell_type": "code",
      "source": [
        "name = '황예린'\n",
        "age = 18\n",
        "eyesight = 1.2\n",
        "\n",
        "a = '이름 : {}'.format(name)   \n",
        "b = '나이 : {}세'.format(age)\n",
        "c = '시력 : {}'.format(eyesight)\n",
        "\n",
        "print(a)\n",
        "print(b)\n",
        "print(c)"
      ],
      "metadata": {
        "colab": {
          "base_uri": "https://localhost:8080/"
        },
        "id": "XI24YUGqft2n",
        "outputId": "458aa3cf-a8c9-4229-d2d3-9e85002391f8"
      },
      "execution_count": 3,
      "outputs": [
        {
          "output_type": "stream",
          "name": "stdout",
          "text": [
            "이름 : 황예린\n",
            "나이 : 18세\n",
            "시력 : 1.2\n"
          ]
        }
      ]
    },
    {
      "cell_type": "code",
      "source": [
        "x = 10\n",
        "y = 20\n",
        "\n",
        "print('x = ' + str(x) + ', y = ' + str(y))"
      ],
      "metadata": {
        "colab": {
          "base_uri": "https://localhost:8080/"
        },
        "id": "QoH8W3GEfuet",
        "outputId": "2d177565-8ae6-4c48-cec7-b548d2c77d27"
      },
      "execution_count": 4,
      "outputs": [
        {
          "output_type": "stream",
          "name": "stdout",
          "text": [
            "x = 10, y = 20\n"
          ]
        }
      ]
    },
    {
      "cell_type": "code",
      "source": [
        "score1 = 80\n",
        "score2 = 87\n",
        "\n",
        "sum = score1+score2\n",
        "avg = (score1+score2)/2\n",
        "\n",
        "\n",
        "print('두 과목 점수 : %d, %d' % (score1, score2))\n",
        "print('합계 : %d, 평균 : %.2f' % (sum,avg ))"
      ],
      "metadata": {
        "colab": {
          "base_uri": "https://localhost:8080/"
        },
        "id": "UdGdfJ3bg6IW",
        "outputId": "b939f16e-0310-4b5c-bbbf-6a2a6b6c210e"
      },
      "execution_count": 5,
      "outputs": [
        {
          "output_type": "stream",
          "name": "stdout",
          "text": [
            "두 과목 점수 : 80, 87\n",
            "합계 : 167, 평균 : 83.50\n"
          ]
        }
      ]
    },
    {
      "cell_type": "code",
      "source": [
        "year = 2020\n",
        "month = 3\n",
        "day = 5\n",
        "\n",
        "print(year, month, day, sep='/')"
      ],
      "metadata": {
        "colab": {
          "base_uri": "https://localhost:8080/"
        },
        "id": "hyBrWhjakT04",
        "outputId": "6b9a1726-bf38-481f-9a2e-73f4b2a67149"
      },
      "execution_count": 6,
      "outputs": [
        {
          "output_type": "stream",
          "name": "stdout",
          "text": [
            "2020/3/5\n"
          ]
        }
      ]
    },
    {
      "cell_type": "code",
      "source": [
        "a = '안녕하세요.'\n",
        "b = '반갑습니다.'\n",
        "\n",
        "print(a)\n",
        "print(b)\n",
        "\n",
        "print('\\n\\n') #강제 중 바꿈\n",
        " \n",
        "print(a, end='') #end는 다음 print문 역시 바로 뒤에 붙힌다. \n",
        "print(b) "
      ],
      "metadata": {
        "colab": {
          "base_uri": "https://localhost:8080/"
        },
        "id": "BvnRp3a_kUje",
        "outputId": "52520cc9-2449-471c-93b7-0cd86f57eec9"
      },
      "execution_count": 7,
      "outputs": [
        {
          "output_type": "stream",
          "name": "stdout",
          "text": [
            "안녕하세요.\n",
            "반갑습니다.\n",
            "\n",
            "\n",
            "\n",
            "안녕하세요.반갑습니다.\n"
          ]
        }
      ]
    },
    {
      "cell_type": "code",
      "source": [
        "name = input('이름을 입력하세요 : ')\n",
        "\n",
        "print('%s님 반갑습니다.' % name)"
      ],
      "metadata": {
        "colab": {
          "base_uri": "https://localhost:8080/"
        },
        "id": "kxj_kb96ku4w",
        "outputId": "782b1ce8-def4-4605-e65c-fa07ad452953"
      },
      "execution_count": 11,
      "outputs": [
        {
          "output_type": "stream",
          "name": "stdout",
          "text": [
            "이름을 입력하세요 : 김재성\n",
            "김재성님 반갑습니다.\n"
          ]
        }
      ]
    },
    {
      "cell_type": "code",
      "source": [
        "input('이름을 입력하세요 : ')"
      ],
      "metadata": {
        "colab": {
          "base_uri": "https://localhost:8080/",
          "height": 52
        },
        "id": "GkDoDp_SlYa6",
        "outputId": "ff42e7dc-8a3d-4305-cc03-b70357b35af1"
      },
      "execution_count": 12,
      "outputs": [
        {
          "name": "stdout",
          "output_type": "stream",
          "text": [
            "이름을 입력하세요 : 김재성\n"
          ]
        },
        {
          "output_type": "execute_result",
          "data": {
            "text/plain": [
              "'김재성'"
            ],
            "application/vnd.google.colaboratory.intrinsic+json": {
              "type": "string"
            }
          },
          "metadata": {},
          "execution_count": 12
        }
      ]
    },
    {
      "cell_type": "code",
      "source": [
        "name = input('김재성의 여자친구는 누구인가요? : ')\n",
        "\n",
        "print('%s입니다.' % name)"
      ],
      "metadata": {
        "colab": {
          "base_uri": "https://localhost:8080/"
        },
        "id": "ptCcyFKflan1",
        "outputId": "3fb173cf-2a5f-4c49-d74b-36712e65e597"
      },
      "execution_count": 13,
      "outputs": [
        {
          "output_type": "stream",
          "name": "stdout",
          "text": [
            "
          ]
        }
      ]
    },
    {
      "cell_type": "code",
      "source": [
        "#변수명에는 @, #, $, %, ^, &, *, - , /, (, )등의 특수문자나 공백 ()을 사용하면 안됩니다. 또한 변수명의 시작을 숫자로 하면 오류가 발생합니다."
      ],
      "metadata": {
        "id": "b7MnMP1elubM"
      },
      "execution_count": 14,
      "outputs": []
    },
    {
      "cell_type": "code",
      "source": [
        "num = int(input('숫자를 입력하세요 : '))\n",
        "\n",
        "if num %2==0: # if 문에는=가 아닌 ==이 들어가야 한다. \n",
        "    print('짝수이다.')\n",
        "else :\n",
        "    print('홀수이다.')\n"
      ],
      "metadata": {
        "colab": {
          "base_uri": "https://localhost:8080/"
        },
        "id": "90tPzVD22ZKw",
        "outputId": "7cab931f-4a44-4f4a-a809-a24333e192b6"
      },
      "execution_count": 15,
      "outputs": [
        {
          "output_type": "stream",
          "name": "stdout",
          "text": [
            "숫자를 입력하세요 : 22\n",
            "짝수이다.\n"
          ]
        }
      ]
    },
    {
      "cell_type": "code",
      "source": [
        "score = int(input('점수를 입력하세요 : '))\n",
        "\n",
        "if score >=90: # 1번의 조건식을 작성해 보세요.\n",
        "    grade = 'A'\n",
        "elif score>=80: # 2번의 조건식을 작성해 보세요.\n",
        "    grade = 'B'\n",
        "elif  score>=70: # 3번의 조건식을 작성해 보세요.\n",
        "    grade = 'C'\n",
        "elif score >= 60 :\n",
        "    grade = 'D'  #하면 elif는 수행되지 않습니다\n",
        "else :\n",
        "    grade = 'F'\n",
        "\n",
        "print('성적 : %d점' % score)\n",
        "print('등급 : %s' % grade)"
      ],
      "metadata": {
        "colab": {
          "base_uri": "https://localhost:8080/"
        },
        "id": "iXRQFPeNNIUa",
        "outputId": "f0cd939c-7ef4-444c-858b-aedbee8b7a89"
      },
      "execution_count": 18,
      "outputs": [
        {
          "output_type": "stream",
          "name": "stdout",
          "text": [
            "점수를 입력하세요 : 84\n",
            "성적 : 84점\n",
            "등급 : B\n"
          ]
        }
      ]
    },
    {
      "cell_type": "code",
      "source": [
        "now_year  = int(input('현재년을 입력해 주세요 : ')) \n",
        "now_month = int(input('현재월을 입력해 주세요 : ')) \n",
        "now_day   = int(input('현재일을 입력해 주세요 : ')) \n",
        "\n",
        "birth_year  = int(input('출생년을 입력해 주세요 : ')) \n",
        "birth_month = int(input('출생월을 입력해 주세요 : ')) \n",
        "birth_day   = int(input('출생일을 입력해 주세요 : ')) \n",
        "\n",
        "if age>0: # 1번의 조건식을 작성해 보세요.\n",
        "    age = now_year - birth_year \n",
        "elif age==0: # 2번의 조건식을 작성해 보세요\n",
        "    if age>0: # 3번의 조건식을 작성해 보세요.\n",
        "        age = now_year - birth_year \n",
        "    else : \n",
        "        age = now_year - birth_year - 1 \n",
        "else : \n",
        "    age = now_year - birth_year - 1 \n",
        "\n",
        "print('-' * 50) \n",
        "print('오늘 날짜 : %d년 %d월 %d일' % (now_year, now_month, now_day))\n",
        "print('생년 월일 : %d년 %d월 %d일' % (birth_year, birth_month, birth_day))\n",
        "print('-' * 50) \n",
        "print('만 나이 : %d세' % age) \n",
        "print('-' * 50)"
      ],
      "metadata": {
        "colab": {
          "base_uri": "https://localhost:8080/"
        },
        "id": "YoUOrZNXNJEm",
        "outputId": "6bd81737-f204-4408-a35c-5a4190be5018"
      },
      "execution_count": 19,
      "outputs": [
        {
          "output_type": "stream",
          "name": "stdout",
          "text": [
            "현재년을 입력해 주세요 : 2020\n",
            "현재월을 입력해 주세요 : 1\n",
            "현재일을 입력해 주세요 : 27\n",
            "출생년을 입력해 주세요 : 1997\n",
            "출생월을 입력해 주세요 : 5\n",
            "출생일을 입력해 주세요 : 7\n",
            "--------------------------------------------------\n",
            "오늘 날짜 : 2020년 1월 27일\n",
            "생년 월일 : 1997년 5월 7일\n",
            "--------------------------------------------------\n",
            "만 나이 : 23세\n",
            "--------------------------------------------------\n"
          ]
        }
      ]
    },
    {
      "cell_type": "code",
      "source": [
        "sum = 0\n",
        "for i in range(1, 101) :\n",
        "    if  i%3==0 :\n",
        "        print('%d' % i, end = ' ')\n",
        "        sum += i\n",
        "\n",
        "print('\\n','-' * 50)\n",
        "print('1~100에서 3의 배수의 합계 : %d' % sum)"
      ],
      "metadata": {
        "colab": {
          "base_uri": "https://localhost:8080/"
        },
        "id": "OQ1iimykPAHy",
        "outputId": "2a84ec49-4c75-414c-e9a6-abf83ee5b90b"
      },
      "execution_count": 21,
      "outputs": [
        {
          "output_type": "stream",
          "name": "stdout",
          "text": [
            "3 6 9 12 15 18 21 24 27 30 33 36 39 42 45 48 51 54 57 60 63 66 69 72 75 78 81 84 87 90 93 96 99 \n",
            " --------------------------------------------------\n",
            "1~100에서 3의 배수의 합계 : 1683\n"
          ]
        }
      ]
    },
    {
      "cell_type": "code",
      "source": [
        "n1 = int(input('첫 수를 입력하세요 : '))\n",
        "n2 = int(input('끝 수를 입력하세요 : '))\n",
        "n = int(input('합계를 구하고자 하는 배수를 입력하세요 : '))\n",
        "\n",
        "sum = 0\n",
        "i = n1\n",
        "\n",
        "while i < n2+1:\n",
        "    if i%n== 0 :\n",
        "        sum += i\n",
        "    \n",
        "    \n",
        "\n",
        "    i +=+1  # i+=은 이미i자신을 한 번 더한다는 의미를 가지고 있음\n",
        "    \n",
        "print('%d~%d까지의 정수 중 %d의 배수의 합계 : %d' % (n1, n2, n, sum))"
      ],
      "metadata": {
        "colab": {
          "base_uri": "https://localhost:8080/"
        },
        "id": "XnrlqSYTlgUR",
        "outputId": "9dec9595-2de3-4f73-a461-6fd586bbe5c1"
      },
      "execution_count": 5,
      "outputs": [
        {
          "output_type": "stream",
          "name": "stdout",
          "text": [
            "첫 수를 입력하세요 : 10\n",
            "끝 수를 입력하세요 : 20\n",
            "합계를 구하고자 하는 배수를 입력하세요 : 2\n",
            "10~20까지의 정수 중 2의 배수의 합계 : 10\n"
          ]
        }
      ]
    },
    {
      "cell_type": "code",
      "source": [
        "s = input('영어 문장을 입력하세요 :')\n",
        "\n",
        "i = 0\n",
        "count = 0\n",
        "\n",
        "print('모음 : ', end = '')\n",
        "\n",
        "while i <= len(s)-1:\n",
        "    if (s[i] == 'a' or s[i] == 'A'  or s[i] == 'e' or s[i] == 'E' \\\n",
        "        or  s[i] == 'i' or s[i] == 'I' or s[i] == 'o' or s[i] == 'O' \\\n",
        "        or s[i] == 'u' or s[i] == 'U') :\n",
        "        count +=1\n",
        "        print(s[i], end=' ')\n",
        "        \n",
        "    i += 1\n",
        "    \n",
        "print('\\n모음의 개수 : %d' % count)"
      ],
      "metadata": {
        "colab": {
          "base_uri": "https://localhost:8080/"
        },
        "id": "3ZhR16wIuSwz",
        "outputId": "a0a3e99b-87dd-4b68-da38-386f1da7d17b"
      },
      "execution_count": 1,
      "outputs": [
        {
          "output_type": "stream",
          "name": "stdout",
          "text": [
            "영어 문장을 입력하세요 :aeadsagf\n",
            "모음 : a e a a \n",
            "모음의 개수 : 4\n"
          ]
        }
      ]
    },
    {
      "cell_type": "code",
      "source": [
        "for i in range(1,11):\n",
        "  i='*'\n",
        "  \n",
        "  print( i, end = ' ')\n",
        "  \n",
        "\n",
        "\n"
      ],
      "metadata": {
        "colab": {
          "base_uri": "https://localhost:8080/"
        },
        "id": "GqgyyJpZHvV_",
        "outputId": "6a9a0dc6-ebf6-4b3e-a761-5febe7a6eaca"
      },
      "execution_count": 17,
      "outputs": [
        {
          "output_type": "stream",
          "name": "stdout",
          "text": [
            "* * * * * * * * * * "
          ]
        }
      ]
    },
    {
      "cell_type": "code",
      "source": [
        "a =' * * * * * * * * * *' \n",
        "print(a*5,end='\\n')\n"
      ],
      "metadata": {
        "colab": {
          "base_uri": "https://localhost:8080/"
        },
        "id": "qYaIA-Ndsk94",
        "outputId": "e883f4d1-d703-4699-db6c-cf9bd573de78"
      },
      "execution_count": 21,
      "outputs": [
        {
          "output_type": "stream",
          "name": "stdout",
          "text": [
            " * * * * * * * * * * * * * * * * * * * * * * * * * * * * * * * * * * * * * * * * * * * * * * * * * *\n"
          ]
        }
      ]
    },
    {
      "cell_type": "code",
      "source": [],
      "metadata": {
        "id": "NxUrCuUd8dbT"
      },
      "execution_count": null,
      "outputs": []
    }
  ]
}
