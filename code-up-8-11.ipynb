{
  "nbformat": 4,
  "nbformat_minor": 0,
  "metadata": {
    "colab": {
      "name": "code up 8/11",
      "provenance": [],
      "authorship_tag": "ABX9TyPfBV8rSvJoGhefq/rhakNJ"
    },
    "kernelspec": {
      "name": "python3",
      "display_name": "Python 3"
    },
    "language_info": {
      "name": "python"
    }
  },
  "cells": [
    {
      "cell_type": "code",
      "source": [
        "from google.colab import drive\n",
        "from os.path import join\n",
        "ROOT = \"/content/drive\"\n",
        "print(ROOT)\n",
        "drive.mount(ROOT)"
      ],
      "metadata": {
        "colab": {
          "base_uri": "https://localhost:8080/"
        },
        "id": "36NrDsZGCgPP",
        "outputId": "7fc2f303-819c-4058-d9ee-1a169c40daf9"
      },
      "execution_count": null,
      "outputs": [
        {
          "output_type": "stream",
          "name": "stdout",
          "text": [
            "/content/drive\n",
            "Mounted at /content/drive\n"
          ]
        }
      ]
    },
    {
      "cell_type": "markdown",
      "source": [
        "\"!@#$%^&*()'출력"
      ],
      "metadata": {
        "id": "MucpDz_fKbFE"
      }
    },
    {
      "cell_type": "code",
      "execution_count": null,
      "metadata": {
        "colab": {
          "base_uri": "https://localhost:8080/"
        },
        "id": "PJeMTrNWJQl8",
        "outputId": "4a888bf5-08c5-49c6-99d2-a64289e71da6"
      },
      "outputs": [
        {
          "output_type": "stream",
          "name": "stdout",
          "text": [
            "\"!@#$%^&*()'\n"
          ]
        }
      ],
      "source": [
        "print('\"!@#$%^&*()\\'') #오답노트 앞의'는 그 바로뒤\"와 다르기때문에 \\를 활용하지 않아도 괜찮지만 뒤에있는 '는 앞에 '로 같은것이 있기 때문에 \\를 사용한다. "
      ]
    },
    {
      "cell_type": "markdown",
      "source": [
        "\"C:\\Download\\'hello'.py\" 출력"
      ],
      "metadata": {
        "id": "bpdeVRboKWt_"
      }
    },
    {
      "cell_type": "code",
      "source": [
        "print(\"\\\"C:\\Download\\\\'hello'.py\\\"\")"
      ],
      "metadata": {
        "colab": {
          "base_uri": "https://localhost:8080/"
        },
        "id": "BpYuLHL4JR26",
        "outputId": "fdd0b90b-d466-4166-b470-596f88295030"
      },
      "execution_count": null,
      "outputs": [
        {
          "output_type": "stream",
          "name": "stdout",
          "text": [
            "\"C:\\Download\\'hello'.py\"\n"
          ]
        }
      ]
    },
    {
      "cell_type": "markdown",
      "source": [
        "\"Hello\\nWorld\"출력"
      ],
      "metadata": {
        "id": "L7WyHsoqK6rk"
      }
    },
    {
      "cell_type": "code",
      "source": [
        "print('print(\"Hello\\\\nWorld\")') #오답노트 \\n을 그대로 표현하기 위해 \\\\에 '을 넣지 않음으로써 출력할게 없어 \\n출력"
      ],
      "metadata": {
        "colab": {
          "base_uri": "https://localhost:8080/"
        },
        "id": "YXxzu9mNJzzz",
        "outputId": "24876a48-7de5-4d14-fa8f-438c4ec04637"
      },
      "execution_count": null,
      "outputs": [
        {
          "output_type": "stream",
          "name": "stdout",
          "text": [
            "print(\"Hello\\nWorld\")\n"
          ]
        }
      ]
    },
    {
      "cell_type": "markdown",
      "source": [
        "문자(character)는\n",
        "0~9, a~z, A~Z, !, @, #, {, [, <, ... 과 같이 \n",
        "길이가 1인 기호라고 할 수 있다.\n",
        "\n",
        "변수에 문자 1개를 저장한 후\n",
        "변수에 저장되어 있는 문자를 그대로 출력해보자.\n"
      ],
      "metadata": {
        "id": "nPEyr71zKwCm"
      }
    },
    {
      "cell_type": "code",
      "source": [
        "c = input('a')\n",
        "print(c)"
      ],
      "metadata": {
        "colab": {
          "base_uri": "https://localhost:8080/"
        },
        "id": "tLTMMzkDOYLG",
        "outputId": "6ea420b4-0bd4-44f5-df49-2f507b533010"
      },
      "execution_count": null,
      "outputs": [
        {
          "output_type": "stream",
          "name": "stdout",
          "text": [
            "a0\n",
            "0\n"
          ]
        }
      ]
    },
    {
      "cell_type": "code",
      "source": [
        "print(c)"
      ],
      "metadata": {
        "colab": {
          "base_uri": "https://localhost:8080/"
        },
        "id": "m9cGVnueOnGf",
        "outputId": "53603e18-0fa3-44d5-ee96-7883d2d21316"
      },
      "execution_count": null,
      "outputs": [
        {
          "output_type": "stream",
          "name": "stdout",
          "text": [
            "0\n"
          ]
        }
      ]
    },
    {
      "cell_type": "markdown",
      "source": [
        "정수(integer)는\n",
        "양의 정수(1, 2, 3, 4, 5, ...), 음의 정수(-1, -2, -3, -4, -5, ...), 0 과 같이\n",
        "소숫점 아래에 수가 없는 수라고 할 수 있다.\n",
        "변수에 정수값을 저장한 후 정수로 변환하여 출력해보자.\n"
      ],
      "metadata": {
        "id": "ZafmRRZBO27P"
      }
    },
    {
      "cell_type": "code",
      "source": [
        "a=int(input())\n",
        "print(a)"
      ],
      "metadata": {
        "colab": {
          "base_uri": "https://localhost:8080/"
        },
        "id": "CcKcs3rNReXZ",
        "outputId": "d0fb89ef-aa57-4c48-e95f-100278691c6d"
      },
      "execution_count": null,
      "outputs": [
        {
          "output_type": "stream",
          "name": "stdout",
          "text": [
            "9\n",
            "9\n"
          ]
        }
      ]
    },
    {
      "cell_type": "code",
      "source": [
        "a"
      ],
      "metadata": {
        "colab": {
          "base_uri": "https://localhost:8080/"
        },
        "id": "jBmP35e3Ru8s",
        "outputId": "63ebc211-600c-48e6-86e4-3f68cb7fca22"
      },
      "execution_count": null,
      "outputs": [
        {
          "output_type": "execute_result",
          "data": {
            "text/plain": [
              "9"
            ]
          },
          "metadata": {},
          "execution_count": 39
        }
      ]
    },
    {
      "cell_type": "markdown",
      "source": [
        "숫자(0~9)와 소수점(.)을 사용해 표현한 수를 실수(real number)라고 한다.\n",
        "\n",
        "변수에 실수값을 저장한 후\n",
        "변수에 저장되어 있는 값을 그대로 출력해보자.\n"
      ],
      "metadata": {
        "id": "Oyp-j6TrR3D9"
      }
    },
    {
      "cell_type": "code",
      "source": [
        "a=float(input())\n",
        "print(a)"
      ],
      "metadata": {
        "colab": {
          "base_uri": "https://localhost:8080/"
        },
        "id": "TDcrbBANSHDd",
        "outputId": "989e6927-208d-49e8-913c-a0223609a66a"
      },
      "execution_count": null,
      "outputs": [
        {
          "output_type": "stream",
          "name": "stdout",
          "text": [
            "9\n",
            "9.0\n"
          ]
        }
      ]
    },
    {
      "cell_type": "markdown",
      "source": [
        "줄을 바꿔 정수(integer) 2개를 입력받아 줄을 바꿔 출력해보자.\n"
      ],
      "metadata": {
        "id": "vb2OJS_eSS1T"
      }
    },
    {
      "cell_type": "code",
      "source": [
        "a=int(input())\n",
        "b=int(input())\n",
        "\n",
        "print(int(a))\n",
        "print(int(b))"
      ],
      "metadata": {
        "colab": {
          "base_uri": "https://localhost:8080/"
        },
        "id": "G6Z5Z5CUTPxW",
        "outputId": "e42b8991-ccc4-4faf-951b-5ab8e00cb045"
      },
      "execution_count": null,
      "outputs": [
        {
          "output_type": "stream",
          "name": "stdout",
          "text": [
            "1\n",
            "2\n",
            "1\n",
            "2\n"
          ]
        }
      ]
    },
    {
      "cell_type": "markdown",
      "source": [
        "줄을 바꿔 문자(character) 2개를 입력받고, 순서를 바꿔 한 줄씩 출력해보자."
      ],
      "metadata": {
        "id": "OJye9047TWhw"
      }
    },
    {
      "cell_type": "code",
      "source": [
        "a = input()\n",
        "b = input()\n",
        "print(b)\n",
        "print(a)"
      ],
      "metadata": {
        "colab": {
          "base_uri": "https://localhost:8080/"
        },
        "id": "VBinEf2qTvgk",
        "outputId": "ae924e59-faef-4cc5-e722-d7bab2c4788f"
      },
      "execution_count": null,
      "outputs": [
        {
          "output_type": "stream",
          "name": "stdout",
          "text": [
            "1\n",
            "2\n",
            "2\n",
            "1\n"
          ]
        }
      ]
    },
    {
      "cell_type": "code",
      "source": [
        "a = input()\n",
        "b = input()\n",
        "print('{b}\\n{a}'.format(b=b, a=a))"
      ],
      "metadata": {
        "colab": {
          "base_uri": "https://localhost:8080/"
        },
        "id": "OWIrJ81LT1xc",
        "outputId": "f111b834-f8e8-4d9f-9674-336bf1517cb4"
      },
      "execution_count": null,
      "outputs": [
        {
          "output_type": "stream",
          "name": "stdout",
          "text": [
            "1\n",
            "2\n",
            "2\n",
            "1\n"
          ]
        }
      ]
    },
    {
      "cell_type": "markdown",
      "source": [
        "실수(real number) 1개를 입력받아 줄을 바꿔 3번 출력해보자."
      ],
      "metadata": {
        "id": "uw3m9qnOUMuN"
      }
    },
    {
      "cell_type": "code",
      "source": [
        "a = float(input())\n",
        "for i in range(3):\n",
        "    print(a)"
      ],
      "metadata": {
        "colab": {
          "base_uri": "https://localhost:8080/"
        },
        "id": "xynQy0-FVygt",
        "outputId": "34783e71-ffcf-46df-9420-05cd1912fed0"
      },
      "execution_count": null,
      "outputs": [
        {
          "output_type": "stream",
          "name": "stdout",
          "text": [
            "1\n",
            "1.0\n",
            "1.0\n",
            "1.0\n"
          ]
        }
      ]
    },
    {
      "cell_type": "markdown",
      "source": [
        "공백을 두고 입력된정수(integer) 2개를 입력받아 줄을 바꿔 출력해보자.\n"
      ],
      "metadata": {
        "id": "86Xb3tBaV64z"
      }
    },
    {
      "cell_type": "code",
      "source": [
        "a = input().split()\n",
        "b = input().split()\n",
        "print(a)\n",
        "print(b)"
      ],
      "metadata": {
        "colab": {
          "base_uri": "https://localhost:8080/"
        },
        "id": "SBX0fGLnWOga",
        "outputId": "6f0fc903-9a36-49ab-9bd9-d06f0438205f"
      },
      "execution_count": null,
      "outputs": [
        {
          "output_type": "stream",
          "name": "stdout",
          "text": [
            "1\n",
            "2\n",
            "['1']\n",
            "['2']\n"
          ]
        }
      ]
    },
    {
      "cell_type": "code",
      "source": [
        ""
      ],
      "metadata": {
        "id": "Y_KLcpIjeCcu"
      },
      "execution_count": null,
      "outputs": []
    }
  ]
}