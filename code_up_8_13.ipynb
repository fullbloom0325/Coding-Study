{
  "nbformat": 4,
  "nbformat_minor": 0,
  "metadata": {
    "colab": {
      "name": "code up 8/13",
      "provenance": [],
      "authorship_tag": "ABX9TyOHxubV2nNtpS4E8GvMp5z8",
      "include_colab_link": true
    },
    "kernelspec": {
      "name": "python3",
      "display_name": "Python 3"
    },
    "language_info": {
      "name": "python"
    }
  },
  "cells": [
    {
      "cell_type": "markdown",
      "metadata": {
        "id": "view-in-github",
        "colab_type": "text"
      },
      "source": [
        "<a href=\"https://colab.research.google.com/github/fullbloom0325/Coding-Study/blob/main/code_up_8_13.ipynb\" target=\"_parent\"><img src=\"https://colab.research.google.com/assets/colab-badge.svg\" alt=\"Open In Colab\"/></a>"
      ]
    },
    {
      "cell_type": "code",
      "execution_count": 26,
      "metadata": {
        "id": "G_KH6e3z9FeY"
      },
      "outputs": [],
      "source": [
        "import pandas as pd\n",
        "import numpy as np\n"
      ]
    },
    {
      "cell_type": "markdown",
      "source": [
        "공백을 두고 문자(character) 2개를 입력받아 순서를 바꿔 출력해보자."
      ],
      "metadata": {
        "id": "llGbdVQh_ChE"
      }
    },
    {
      "cell_type": "code",
      "source": [
        "a,b=input().split()\n",
        "print(b,a)"
      ],
      "metadata": {
        "colab": {
          "base_uri": "https://localhost:8080/"
        },
        "id": "tdjDkhE1-XF4",
        "outputId": "fa53f911-36d6-4322-bec4-fcde3f9e0f03"
      },
      "execution_count": null,
      "outputs": [
        {
          "output_type": "stream",
          "name": "stdout",
          "text": [
            "1 2\n",
            "2 1\n"
          ]
        }
      ]
    },
    {
      "cell_type": "markdown",
      "source": [
        "정수(integer), 실수, 문자(character), 문자열(string) 등 1개만 입력받아 한 줄로 3번 출력해보자.\n"
      ],
      "metadata": {
        "id": "11h6Db4Q-pBh"
      }
    },
    {
      "cell_type": "code",
      "source": [
        "a=int(input())\n",
        "b=float(input())\n",
        "c=str(input())\n",
        "print(a,b,c)"
      ],
      "metadata": {
        "colab": {
          "base_uri": "https://localhost:8080/"
        },
        "id": "17bZHLcT_dVV",
        "outputId": "b636cdb8-5a32-42e7-cf0a-ff70eeb0e854"
      },
      "execution_count": null,
      "outputs": [
        {
          "output_type": "stream",
          "name": "stdout",
          "text": [
            "1\n",
            "2\n",
            "3\n",
            "1 2.0 3\n"
          ]
        }
      ]
    },
    {
      "cell_type": "code",
      "source": [
        "a=input()\n",
        "print(a,a,a)"
      ],
      "metadata": {
        "colab": {
          "base_uri": "https://localhost:8080/"
        },
        "id": "NWttGoWvAPph",
        "outputId": "d7e82e67-4d32-442a-f02b-31504f568b68"
      },
      "execution_count": null,
      "outputs": [
        {
          "output_type": "stream",
          "name": "stdout",
          "text": [
            "바보\n",
            "바보 바보 바보\n"
          ]
        }
      ]
    },
    {
      "cell_type": "markdown",
      "source": [
        "24시간 시:분 형식으로 시간이 입력될 때, 그대로 출력하는 연습을 해보자."
      ],
      "metadata": {
        "id": "WXB_qds9AuB4"
      }
    },
    {
      "cell_type": "code",
      "source": [
        "a, b = input().split(':') #input().split(':') 를 사용하면 콜론 ':' 기호를 기준으로 자른다.(3과 16을 구분) print(?, ?, sep=':') 를 사용하면 콜론 ':' 기호를 사이에 두고 값을 출력한다.sep 는 분류기호(seperator)를 의미한다.\n",
        "print(a, b, sep=':')"
      ],
      "metadata": {
        "colab": {
          "base_uri": "https://localhost:8080/"
        },
        "id": "PMT8eKiqCIGx",
        "outputId": "afdb9f71-23e0-429a-e4f8-196e7e5a8326"
      },
      "execution_count": null,
      "outputs": [
        {
          "output_type": "stream",
          "name": "stdout",
          "text": [
            "3:16\n",
            "3:16\n"
          ]
        }
      ]
    },
    {
      "cell_type": "markdown",
      "source": [
        "\"연도.월.일\"을 입력받아 \"일-월-연도\" 순서로 바꿔 출력해보자.\n"
      ],
      "metadata": {
        "id": "77oFJulcCQil"
      }
    },
    {
      "cell_type": "code",
      "source": [
        "y,m,d=input().split('.')\n",
        "print(d,m,y ,sep='-') #sep는 꼭 split과 같을필욘느 없으며 sep으로 기호를 추가할 수 있다. "
      ],
      "metadata": {
        "colab": {
          "base_uri": "https://localhost:8080/"
        },
        "id": "HFJHOoZ6F2nd",
        "outputId": "8cc3ceef-ce41-4f8b-dcee-174c86cd4421"
      },
      "execution_count": null,
      "outputs": [
        {
          "output_type": "stream",
          "name": "stdout",
          "text": [
            "2020.2.1\n",
            "1-2-2020\n"
          ]
        }
      ]
    },
    {
      "cell_type": "markdown",
      "source": [
        "주민번호는 다음과 같이 구성된다.\n",
        "XXXXXX-XXXXXXX\n",
        "\n",
        "왼쪽 6자리는 생년월일(YYMMDD)이고, 오른쪽 7자리는 성별,출생지역,확인코드로 구성되어있다.\n",
        "주민번호를 입력받아 형태를 바꿔 출력해보자.\n"
      ],
      "metadata": {
        "id": "Ms6Qyw8nGKKW"
      }
    },
    {
      "cell_type": "code",
      "source": [
        "q,w=input().split('-')\n",
        "print(q,w,sep='')"
      ],
      "metadata": {
        "colab": {
          "base_uri": "https://localhost:8080/"
        },
        "id": "KVKvvf9QGz83",
        "outputId": "86e9c8b6-f8d1-4e83-e96e-efefc5c83efe"
      },
      "execution_count": null,
      "outputs": [
        {
          "output_type": "stream",
          "name": "stdout",
          "text": [
            "990325-1111111\n",
            "9903251111111\n"
          ]
        }
      ]
    },
    {
      "cell_type": "markdown",
      "source": [
        "알파벳과 숫자로 이루어진 단어 1개가 입력된다.\n",
        "입력받은 단어의 각 문자를 한 줄에 한 문자씩 분리해 출력한다."
      ],
      "metadata": {
        "id": "TVXLu9sKHFUo"
      }
    },
    {
      "cell_type": "code",
      "source": [
        "s = input()\n",
        "print(s[0])\n",
        "print(s[1])   #잘 봐두기 []는 차례 \n",
        "print(s[2])\n",
        "print(s[3])\n",
        "print(s[4])"
      ],
      "metadata": {
        "colab": {
          "base_uri": "https://localhost:8080/"
        },
        "id": "1JJ0-_jYIFEj",
        "outputId": "208244f4-1723-4e60-c362-c6a9431aa8b3"
      },
      "execution_count": null,
      "outputs": [
        {
          "output_type": "stream",
          "name": "stdout",
          "text": [
            "eeeee\n",
            "e\n",
            "e\n",
            "e\n",
            "e\n",
            "e\n"
          ]
        }
      ]
    },
    {
      "cell_type": "markdown",
      "source": [
        "6자리의 연월일(YYMMDD)을 입력받아 나누어 출력해보자."
      ],
      "metadata": {
        "id": "4uDEErWRIvWi"
      }
    },
    {
      "cell_type": "code",
      "source": [
        ""
      ],
      "metadata": {
        "id": "QahhuW4Yk5WY"
      },
      "execution_count": null,
      "outputs": []
    },
    {
      "cell_type": "code",
      "source": [
        "a =input()\n",
        "\n",
        "print(a[0:2],a[2:4],a[4:6],sep=' ')\n"
      ],
      "metadata": {
        "colab": {
          "base_uri": "https://localhost:8080/"
        },
        "id": "3WIkGmG9dvC_",
        "outputId": "e7aecd78-ef39-4d04-99c5-2efe982fb391"
      },
      "execution_count": 13,
      "outputs": [
        {
          "output_type": "stream",
          "name": "stdout",
          "text": [
            "112233\n",
            "11 22 33\n"
          ]
        }
      ]
    },
    {
      "cell_type": "markdown",
      "source": [
        "시:분:초 형식으로 시간이 입력될 때 분만 출력해보자.\n"
      ],
      "metadata": {
        "id": "JqGvb8S_eVGd"
      }
    },
    {
      "cell_type": "code",
      "source": [
        "a,b,c=input().split(':')\n",
        "print(b)"
      ],
      "metadata": {
        "colab": {
          "base_uri": "https://localhost:8080/"
        },
        "id": "JDxrkEQ4hYrU",
        "outputId": "02bd64fa-1886-4a8a-a700-bca95523cbeb"
      },
      "execution_count": 14,
      "outputs": [
        {
          "output_type": "stream",
          "name": "stdout",
          "text": [
            "11:22:33\n",
            "22\n"
          ]
        }
      ]
    },
    {
      "cell_type": "markdown",
      "source": [
        "알파벳 문자와 숫자로 이루어진 단어 2개를 입력받아\n",
        "순서대로 붙여 출력하는 프로그램을 작성해보자."
      ],
      "metadata": {
        "id": "oPOV8td6lXxW"
      }
    },
    {
      "cell_type": "code",
      "source": [
        "a,b = input().split()\n",
        "s=a+b\n",
        "print(s)"
      ],
      "metadata": {
        "colab": {
          "base_uri": "https://localhost:8080/"
        },
        "id": "EskcxzMO4P4D",
        "outputId": "07ece213-88e4-45a9-f870-47a334aa63d2"
      },
      "execution_count": 15,
      "outputs": [
        {
          "output_type": "stream",
          "name": "stdout",
          "text": [
            "frf sss\n",
            "frfsss\n"
          ]
        }
      ]
    },
    {
      "cell_type": "markdown",
      "source": [
        "정수 2개를 입력받아\n",
        "합을 출력하는 프로그램을 작성해보자."
      ],
      "metadata": {
        "id": "zuPAB9J9476k"
      }
    },
    {
      "cell_type": "code",
      "source": [
        "\n",
        "a,b = input().split()  #a,b가 문자형이기에 int가 성립되지 않는다.\n",
        "s=int(a)+int(b)\n",
        "   \n",
        "\n",
        "print(s)"
      ],
      "metadata": {
        "colab": {
          "base_uri": "https://localhost:8080/"
        },
        "id": "_8wlctYt5-iX",
        "outputId": "e2ffe74c-9166-4e02-eb30-4374b313c66f"
      },
      "execution_count": 31,
      "outputs": [
        {
          "output_type": "stream",
          "name": "stdout",
          "text": [
            "111 -222\n",
            "-111\n"
          ]
        }
      ]
    },
    {
      "cell_type": "code",
      "source": [
        ""
      ],
      "metadata": {
        "id": "qZsFEdIS78Wf"
      },
      "execution_count": null,
      "outputs": []
    }
  ]
}